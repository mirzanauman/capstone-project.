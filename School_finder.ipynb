{
 "cells": [
  {
   "cell_type": "code",
   "execution_count": 1,
   "metadata": {},
   "outputs": [
    {
     "name": "stderr",
     "output_type": "stream",
     "text": [
      "'conda' is not recognized as an internal or external command,\n",
      "operable program or batch file.\n",
      "'conda' is not recognized as an internal or external command,\n",
      "operable program or batch file.\n"
     ]
    },
    {
     "name": "stdout",
     "output_type": "stream",
     "text": [
      "Folium installed\n",
      "Libraries imported.\n"
     ]
    }
   ],
   "source": [
    " from geopy.geocoders import Nominatim # module to convert an address into latitude and longitude values\n",
    "import requests # library to handle requests\n",
    "import pandas as pd # library for data analsysis\n",
    "import numpy as np # library to handle data in a vectorized manner\n",
    "import random # library for random number generation\n",
    "\n",
    "# libraries for displaying images\n",
    "from IPython.display import Image \n",
    "from IPython.core.display import HTML \n",
    "    \n",
    "# tranforming json file into a pandas dataframe library\n",
    "from pandas.io.json import json_normalize\n",
    "\n",
    "!conda install -c conda-forge folium=0.5.0 --yes\n",
    "import folium # plotting library\n",
    "print('Folium installed')\n",
    "print('Libraries imported.')"
   ]
  },
  {
   "cell_type": "code",
   "execution_count": 2,
   "metadata": {},
   "outputs": [
    {
     "name": "stdout",
     "output_type": "stream",
     "text": [
      "Your credentails:\n",
      "CLIENT_ID: XMGFAGKBMEINJ4SMM4RTPAPGWBBDBE2S4OOGF1PUFRZJYBU1\n",
      "CLIENT_SECRET:5PSGNJQPGPQQFQPZB02CJAPVRFHPLRJF52PQTE0Q23FEJANR\n"
     ]
    }
   ],
   "source": [
    "CLIENT_ID = 'XMGFAGKBMEINJ4SMM4RTPAPGWBBDBE2S4OOGF1PUFRZJYBU1' # your Foursquare ID\n",
    "CLIENT_SECRET = '5PSGNJQPGPQQFQPZB02CJAPVRFHPLRJF52PQTE0Q23FEJANR' # your Foursquare Secret\n",
    "VERSION = '20180604'\n",
    "LIMIT = 100\n",
    "print('Your credentails:')\n",
    "print('CLIENT_ID: ' + CLIENT_ID)\n",
    "print('CLIENT_SECRET:' + CLIENT_SECRET)"
   ]
  },
  {
   "cell_type": "code",
   "execution_count": 3,
   "metadata": {},
   "outputs": [
    {
     "name": "stderr",
     "output_type": "stream",
     "text": [
      "c:\\users\\nauman\\appdata\\local\\programs\\python\\python37-32\\lib\\site-packages\\ipykernel_launcher.py:3: DeprecationWarning: Using Nominatim with the default \"geopy/1.18.1\" `user_agent` is strongly discouraged, as it violates Nominatim's ToS https://operations.osmfoundation.org/policies/nominatim/ and may possibly cause 403 and 429 HTTP errors. Please specify a custom `user_agent` with `Nominatim(user_agent=\"my-application\")` or by overriding the default `user_agent`: `geopy.geocoders.options.default_user_agent = \"my-application\"`. In geopy 2.0 this will become an exception.\n",
      "  This is separate from the ipykernel package so we can avoid doing imports until\n"
     ]
    },
    {
     "name": "stdout",
     "output_type": "stream",
     "text": [
      "45.278752 -66.058044\n"
     ]
    }
   ],
   "source": [
    "address = 'saint john' # location in which i am intrested\n",
    "\n",
    "geolocator = Nominatim()\n",
    "location = geolocator.geocode(address)\n",
    "latitude = location.latitude\n",
    "longitude = location.longitude\n",
    "print(latitude, longitude)"
   ]
  },
  {
   "cell_type": "code",
   "execution_count": 4,
   "metadata": {},
   "outputs": [
    {
     "name": "stdout",
     "output_type": "stream",
     "text": [
      "School .... OK!\n"
     ]
    }
   ],
   "source": [
    "search_query = 'School'\n",
    "radius = 500\n",
    "print(search_query + ' .... OK!')"
   ]
  },
  {
   "cell_type": "code",
   "execution_count": 5,
   "metadata": {},
   "outputs": [
    {
     "data": {
      "text/plain": [
       "'https://api.foursquare.com/v2/venues/search?client_id=XMGFAGKBMEINJ4SMM4RTPAPGWBBDBE2S4OOGF1PUFRZJYBU1&client_secret=5PSGNJQPGPQQFQPZB02CJAPVRFHPLRJF52PQTE0Q23FEJANR&ll=45.278752,-66.058044&v=20180604&query=School&radius=500&limit=100'"
      ]
     },
     "execution_count": 5,
     "metadata": {},
     "output_type": "execute_result"
    }
   ],
   "source": [
    "url = 'https://api.foursquare.com/v2/venues/search?client_id={}&client_secret={}&ll={},{}&v={}&query={}&radius={}&limit={}'.format(CLIENT_ID, CLIENT_SECRET, latitude, longitude, VERSION, search_query, radius, LIMIT)\n",
    "url"
   ]
  },
  {
   "cell_type": "code",
   "execution_count": 6,
   "metadata": {},
   "outputs": [
    {
     "data": {
      "text/plain": [
       "{'meta': {'code': 200, 'requestId': '5c34baca6a60713c2bcabdd1'},\n",
       " 'response': {'venues': [{'id': '4ec650be6c251306c9fe4309',\n",
       "    'name': 'Prince Charles School',\n",
       "    'location': {'lat': 45.275727,\n",
       "     'lng': -66.054578,\n",
       "     'labeledLatLngs': [{'label': 'display',\n",
       "       'lat': 45.275727,\n",
       "       'lng': -66.054578}],\n",
       "     'distance': 432,\n",
       "     'cc': 'CA',\n",
       "     'city': 'Saint John',\n",
       "     'state': 'NB',\n",
       "     'country': 'Canada',\n",
       "     'formattedAddress': ['Saint John NB', 'Canada']},\n",
       "    'categories': [{'id': '4bf58dd8d48988d13b941735',\n",
       "      'name': 'School',\n",
       "      'pluralName': 'Schools',\n",
       "      'shortName': 'School',\n",
       "      'icon': {'prefix': 'https://ss3.4sqi.net/img/categories_v2/building/school_',\n",
       "       'suffix': '.png'},\n",
       "      'primary': True}],\n",
       "    'referralId': 'v-1546959562',\n",
       "    'hasPerk': False},\n",
       "   {'id': '4d34713998336dcb21a137f0',\n",
       "    'name': 'Prince Charles King Edward School',\n",
       "    'location': {'address': '307-335 Union St',\n",
       "     'lat': 45.27628986,\n",
       "     'lng': -66.05270264,\n",
       "     'labeledLatLngs': [{'label': 'display',\n",
       "       'lat': 45.27628986,\n",
       "       'lng': -66.05270264}],\n",
       "     'distance': 500,\n",
       "     'postalCode': 'E2L 1B3',\n",
       "     'cc': 'CA',\n",
       "     'city': 'Saint John',\n",
       "     'state': 'NB',\n",
       "     'country': 'Canada',\n",
       "     'formattedAddress': ['307-335 Union St',\n",
       "      'Saint John NB E2L 1B3',\n",
       "      'Canada']},\n",
       "    'categories': [{'id': '4bf58dd8d48988d13b941735',\n",
       "      'name': 'School',\n",
       "      'pluralName': 'Schools',\n",
       "      'shortName': 'School',\n",
       "      'icon': {'prefix': 'https://ss3.4sqi.net/img/categories_v2/building/school_',\n",
       "       'suffix': '.png'},\n",
       "      'primary': True}],\n",
       "    'referralId': 'v-1546959562',\n",
       "    'hasPerk': False}]}}"
      ]
     },
     "execution_count": 6,
     "metadata": {},
     "output_type": "execute_result"
    }
   ],
   "source": [
    "results = requests.get(url).json() # to \n",
    "results"
   ]
  },
  {
   "cell_type": "code",
   "execution_count": 7,
   "metadata": {},
   "outputs": [
    {
     "data": {
      "text/html": [
       "<div>\n",
       "<style scoped>\n",
       "    .dataframe tbody tr th:only-of-type {\n",
       "        vertical-align: middle;\n",
       "    }\n",
       "\n",
       "    .dataframe tbody tr th {\n",
       "        vertical-align: top;\n",
       "    }\n",
       "\n",
       "    .dataframe thead th {\n",
       "        text-align: right;\n",
       "    }\n",
       "</style>\n",
       "<table border=\"1\" class=\"dataframe\">\n",
       "  <thead>\n",
       "    <tr style=\"text-align: right;\">\n",
       "      <th></th>\n",
       "      <th>categories</th>\n",
       "      <th>hasPerk</th>\n",
       "      <th>id</th>\n",
       "      <th>location.address</th>\n",
       "      <th>location.cc</th>\n",
       "      <th>location.city</th>\n",
       "      <th>location.country</th>\n",
       "      <th>location.distance</th>\n",
       "      <th>location.formattedAddress</th>\n",
       "      <th>location.labeledLatLngs</th>\n",
       "      <th>location.lat</th>\n",
       "      <th>location.lng</th>\n",
       "      <th>location.postalCode</th>\n",
       "      <th>location.state</th>\n",
       "      <th>name</th>\n",
       "      <th>referralId</th>\n",
       "    </tr>\n",
       "  </thead>\n",
       "  <tbody>\n",
       "    <tr>\n",
       "      <th>0</th>\n",
       "      <td>[{'id': '4bf58dd8d48988d13b941735', 'name': 'S...</td>\n",
       "      <td>False</td>\n",
       "      <td>4ec650be6c251306c9fe4309</td>\n",
       "      <td>NaN</td>\n",
       "      <td>CA</td>\n",
       "      <td>Saint John</td>\n",
       "      <td>Canada</td>\n",
       "      <td>432</td>\n",
       "      <td>[Saint John NB, Canada]</td>\n",
       "      <td>[{'label': 'display', 'lat': 45.275727, 'lng':...</td>\n",
       "      <td>45.275727</td>\n",
       "      <td>-66.054578</td>\n",
       "      <td>NaN</td>\n",
       "      <td>NB</td>\n",
       "      <td>Prince Charles School</td>\n",
       "      <td>v-1546959562</td>\n",
       "    </tr>\n",
       "    <tr>\n",
       "      <th>1</th>\n",
       "      <td>[{'id': '4bf58dd8d48988d13b941735', 'name': 'S...</td>\n",
       "      <td>False</td>\n",
       "      <td>4d34713998336dcb21a137f0</td>\n",
       "      <td>307-335 Union St</td>\n",
       "      <td>CA</td>\n",
       "      <td>Saint John</td>\n",
       "      <td>Canada</td>\n",
       "      <td>500</td>\n",
       "      <td>[307-335 Union St, Saint John NB E2L 1B3, Canada]</td>\n",
       "      <td>[{'label': 'display', 'lat': 45.27628986, 'lng...</td>\n",
       "      <td>45.276290</td>\n",
       "      <td>-66.052703</td>\n",
       "      <td>E2L 1B3</td>\n",
       "      <td>NB</td>\n",
       "      <td>Prince Charles King Edward School</td>\n",
       "      <td>v-1546959562</td>\n",
       "    </tr>\n",
       "  </tbody>\n",
       "</table>\n",
       "</div>"
      ],
      "text/plain": [
       "                                          categories  hasPerk  \\\n",
       "0  [{'id': '4bf58dd8d48988d13b941735', 'name': 'S...    False   \n",
       "1  [{'id': '4bf58dd8d48988d13b941735', 'name': 'S...    False   \n",
       "\n",
       "                         id  location.address location.cc location.city  \\\n",
       "0  4ec650be6c251306c9fe4309               NaN          CA    Saint John   \n",
       "1  4d34713998336dcb21a137f0  307-335 Union St          CA    Saint John   \n",
       "\n",
       "  location.country  location.distance  \\\n",
       "0           Canada                432   \n",
       "1           Canada                500   \n",
       "\n",
       "                           location.formattedAddress  \\\n",
       "0                            [Saint John NB, Canada]   \n",
       "1  [307-335 Union St, Saint John NB E2L 1B3, Canada]   \n",
       "\n",
       "                             location.labeledLatLngs  location.lat  \\\n",
       "0  [{'label': 'display', 'lat': 45.275727, 'lng':...     45.275727   \n",
       "1  [{'label': 'display', 'lat': 45.27628986, 'lng...     45.276290   \n",
       "\n",
       "   location.lng location.postalCode location.state  \\\n",
       "0    -66.054578                 NaN             NB   \n",
       "1    -66.052703             E2L 1B3             NB   \n",
       "\n",
       "                                name    referralId  \n",
       "0              Prince Charles School  v-1546959562  \n",
       "1  Prince Charles King Edward School  v-1546959562  "
      ]
     },
     "execution_count": 7,
     "metadata": {},
     "output_type": "execute_result"
    }
   ],
   "source": [
    "    # assign relevant part of JSON to venues\n",
    "    venues = results['response']['venues']\n",
    "\n",
    "    # tranform venues into a dataframe\n",
    "    dataframe = json_normalize(venues)\n",
    "    dataframe.head()"
   ]
  },
  {
   "cell_type": "code",
   "execution_count": 8,
   "metadata": {},
   "outputs": [
    {
     "data": {
      "text/html": [
       "<div>\n",
       "<style scoped>\n",
       "    .dataframe tbody tr th:only-of-type {\n",
       "        vertical-align: middle;\n",
       "    }\n",
       "\n",
       "    .dataframe tbody tr th {\n",
       "        vertical-align: top;\n",
       "    }\n",
       "\n",
       "    .dataframe thead th {\n",
       "        text-align: right;\n",
       "    }\n",
       "</style>\n",
       "<table border=\"1\" class=\"dataframe\">\n",
       "  <thead>\n",
       "    <tr style=\"text-align: right;\">\n",
       "      <th></th>\n",
       "      <th>name</th>\n",
       "      <th>categories</th>\n",
       "      <th>address</th>\n",
       "      <th>cc</th>\n",
       "      <th>city</th>\n",
       "      <th>country</th>\n",
       "      <th>distance</th>\n",
       "      <th>formattedAddress</th>\n",
       "      <th>labeledLatLngs</th>\n",
       "      <th>lat</th>\n",
       "      <th>lng</th>\n",
       "      <th>postalCode</th>\n",
       "      <th>state</th>\n",
       "      <th>id</th>\n",
       "    </tr>\n",
       "  </thead>\n",
       "  <tbody>\n",
       "    <tr>\n",
       "      <th>0</th>\n",
       "      <td>Prince Charles School</td>\n",
       "      <td>School</td>\n",
       "      <td>NaN</td>\n",
       "      <td>CA</td>\n",
       "      <td>Saint John</td>\n",
       "      <td>Canada</td>\n",
       "      <td>432</td>\n",
       "      <td>[Saint John NB, Canada]</td>\n",
       "      <td>[{'label': 'display', 'lat': 45.275727, 'lng':...</td>\n",
       "      <td>45.275727</td>\n",
       "      <td>-66.054578</td>\n",
       "      <td>NaN</td>\n",
       "      <td>NB</td>\n",
       "      <td>4ec650be6c251306c9fe4309</td>\n",
       "    </tr>\n",
       "    <tr>\n",
       "      <th>1</th>\n",
       "      <td>Prince Charles King Edward School</td>\n",
       "      <td>School</td>\n",
       "      <td>307-335 Union St</td>\n",
       "      <td>CA</td>\n",
       "      <td>Saint John</td>\n",
       "      <td>Canada</td>\n",
       "      <td>500</td>\n",
       "      <td>[307-335 Union St, Saint John NB E2L 1B3, Canada]</td>\n",
       "      <td>[{'label': 'display', 'lat': 45.27628986, 'lng...</td>\n",
       "      <td>45.276290</td>\n",
       "      <td>-66.052703</td>\n",
       "      <td>E2L 1B3</td>\n",
       "      <td>NB</td>\n",
       "      <td>4d34713998336dcb21a137f0</td>\n",
       "    </tr>\n",
       "  </tbody>\n",
       "</table>\n",
       "</div>"
      ],
      "text/plain": [
       "                                name categories           address  cc  \\\n",
       "0              Prince Charles School     School               NaN  CA   \n",
       "1  Prince Charles King Edward School     School  307-335 Union St  CA   \n",
       "\n",
       "         city country  distance  \\\n",
       "0  Saint John  Canada       432   \n",
       "1  Saint John  Canada       500   \n",
       "\n",
       "                                    formattedAddress  \\\n",
       "0                            [Saint John NB, Canada]   \n",
       "1  [307-335 Union St, Saint John NB E2L 1B3, Canada]   \n",
       "\n",
       "                                      labeledLatLngs        lat        lng  \\\n",
       "0  [{'label': 'display', 'lat': 45.275727, 'lng':...  45.275727 -66.054578   \n",
       "1  [{'label': 'display', 'lat': 45.27628986, 'lng...  45.276290 -66.052703   \n",
       "\n",
       "  postalCode state                        id  \n",
       "0        NaN    NB  4ec650be6c251306c9fe4309  \n",
       "1    E2L 1B3    NB  4d34713998336dcb21a137f0  "
      ]
     },
     "execution_count": 8,
     "metadata": {},
     "output_type": "execute_result"
    }
   ],
   "source": [
    "# keep only columns that include venue name, and anything that is associated with location\n",
    "filtered_columns = ['name', 'categories'] + [col for col in dataframe.columns if col.startswith('location.')] + ['id']\n",
    "dataframe_filtered = dataframe.loc[:, filtered_columns]\n",
    "\n",
    "# function that extracts the category of the venue\n",
    "def get_category_type(row):\n",
    "    try:\n",
    "        categories_list = row['categories']\n",
    "    except:\n",
    "        categories_list = row['venue.categories']\n",
    "        \n",
    "    if len(categories_list) == 0:\n",
    "        return None\n",
    "    else:\n",
    "        return categories_list[0]['name']\n",
    "\n",
    "# filter the category for each row\n",
    "dataframe_filtered['categories'] = dataframe_filtered.apply(get_category_type, axis=1)\n",
    "\n",
    "# clean column names by keeping only last term\n",
    "dataframe_filtered.columns = [column.split('.')[-1] for column in dataframe_filtered.columns]\n",
    "\n",
    "dataframe_filtered"
   ]
  },
  {
   "cell_type": "code",
   "execution_count": 9,
   "metadata": {},
   "outputs": [
    {
     "data": {
      "text/plain": [
       "0                Prince Charles School\n",
       "1    Prince Charles King Edward School\n",
       "Name: name, dtype: object"
      ]
     },
     "execution_count": 9,
     "metadata": {},
     "output_type": "execute_result"
    }
   ],
   "source": [
    "dataframe_filtered.name"
   ]
  },
  {
   "cell_type": "code",
   "execution_count": 11,
   "metadata": {},
   "outputs": [
    {
     "data": {
      "text/plain": [
       "'https://api.foursquare.com/v2/venues/4ec650be6c251306c9fe4309?client_id=XMGFAGKBMEINJ4SMM4RTPAPGWBBDBE2S4OOGF1PUFRZJYBU1&client_secret=5PSGNJQPGPQQFQPZB02CJAPVRFHPLRJF52PQTE0Q23FEJANR&v=20180604'"
      ]
     },
     "execution_count": 11,
     "metadata": {},
     "output_type": "execute_result"
    }
   ],
   "source": [
    "venue_id = '4ec650be6c251306c9fe4309' # ID of Prince Charles School\n",
    "url = 'https://api.foursquare.com/v2/venues/{}?client_id={}&client_secret={}&v={}'.format(venue_id, CLIENT_ID, CLIENT_SECRET, VERSION)\n",
    "url"
   ]
  },
  {
   "cell_type": "code",
   "execution_count": 12,
   "metadata": {},
   "outputs": [
    {
     "name": "stdout",
     "output_type": "stream",
     "text": [
      "dict_keys(['id', 'name', 'contact', 'location', 'canonicalUrl', 'categories', 'verified', 'stats', 'likes', 'dislike', 'ok', 'venueRatingBlacklisted', 'beenHere', 'specials', 'photos', 'reasons', 'hereNow', 'createdAt', 'tips', 'shortUrl', 'timeZone', 'listed', 'pageUpdates', 'inbox', 'attributes'])\n"
     ]
    },
    {
     "data": {
      "text/plain": [
       "{'id': '4ec650be6c251306c9fe4309',\n",
       " 'name': 'Prince Charles School',\n",
       " 'contact': {},\n",
       " 'location': {'lat': 45.275727,\n",
       "  'lng': -66.054578,\n",
       "  'labeledLatLngs': [{'label': 'display',\n",
       "    'lat': 45.275727,\n",
       "    'lng': -66.054578}],\n",
       "  'cc': 'CA',\n",
       "  'city': 'Saint John',\n",
       "  'state': 'NB',\n",
       "  'country': 'Canada',\n",
       "  'formattedAddress': ['Saint John NB', 'Canada']},\n",
       " 'canonicalUrl': 'https://foursquare.com/v/prince-charles-school/4ec650be6c251306c9fe4309',\n",
       " 'categories': [{'id': '4bf58dd8d48988d13b941735',\n",
       "   'name': 'School',\n",
       "   'pluralName': 'Schools',\n",
       "   'shortName': 'School',\n",
       "   'icon': {'prefix': 'https://ss3.4sqi.net/img/categories_v2/building/school_',\n",
       "    'suffix': '.png'},\n",
       "   'primary': True}],\n",
       " 'verified': False,\n",
       " 'stats': {'tipCount': 0},\n",
       " 'likes': {'count': 0, 'groups': []},\n",
       " 'dislike': False,\n",
       " 'ok': False,\n",
       " 'venueRatingBlacklisted': True,\n",
       " 'beenHere': {'count': 0,\n",
       "  'unconfirmedCount': 0,\n",
       "  'marked': False,\n",
       "  'lastCheckinExpiredAt': 0},\n",
       " 'specials': {'count': 0, 'items': []},\n",
       " 'photos': {'count': 0,\n",
       "  'groups': [{'type': 'checkin',\n",
       "    'name': \"Friends' check-in photos\",\n",
       "    'count': 0,\n",
       "    'items': []}],\n",
       "  'summary': 'No photos'},\n",
       " 'reasons': {'count': 0, 'items': []},\n",
       " 'hereNow': {'count': 0, 'summary': 'Nobody here', 'groups': []},\n",
       " 'createdAt': 1321619646,\n",
       " 'tips': {'count': 0,\n",
       "  'groups': [{'type': 'others', 'name': 'All tips', 'count': 0, 'items': []}]},\n",
       " 'shortUrl': 'http://4sq.com/slbZNJ',\n",
       " 'timeZone': 'America/Moncton',\n",
       " 'listed': {'count': 0,\n",
       "  'groups': [{'type': 'others',\n",
       "    'name': 'Lists from other people',\n",
       "    'count': 0,\n",
       "    'items': []}]},\n",
       " 'pageUpdates': {'count': 0, 'items': []},\n",
       " 'inbox': {'count': 0, 'items': []},\n",
       " 'attributes': {'groups': []}}"
      ]
     },
     "execution_count": 12,
     "metadata": {},
     "output_type": "execute_result"
    }
   ],
   "source": [
    "result = requests.get(url).json()\n",
    "print(result['response']['venue'].keys())\n",
    "result['response']['venue']"
   ]
  },
  {
   "cell_type": "code",
   "execution_count": 13,
   "metadata": {},
   "outputs": [
    {
     "name": "stdout",
     "output_type": "stream",
     "text": [
      "This venue has not been rated yet.\n"
     ]
    }
   ],
   "source": [
    "try:\n",
    "    print(result['response']['venue']['rating'])\n",
    "except:\n",
    "    print('This venue has not been rated yet.')"
   ]
  },
  {
   "cell_type": "code",
   "execution_count": 14,
   "metadata": {},
   "outputs": [
    {
     "data": {
      "text/plain": [
       "0"
      ]
     },
     "execution_count": 14,
     "metadata": {},
     "output_type": "execute_result"
    }
   ],
   "source": [
    "result['response']['venue']['tips']['count']"
   ]
  },
  {
   "cell_type": "code",
   "execution_count": null,
   "metadata": {},
   "outputs": [],
   "source": []
  }
 ],
 "metadata": {
  "kernelspec": {
   "display_name": "Python 3",
   "language": "python",
   "name": "python3"
  },
  "language_info": {
   "codemirror_mode": {
    "name": "ipython",
    "version": 3
   },
   "file_extension": ".py",
   "mimetype": "text/x-python",
   "name": "python",
   "nbconvert_exporter": "python",
   "pygments_lexer": "ipython3",
   "version": "3.7.0"
  }
 },
 "nbformat": 4,
 "nbformat_minor": 2
}
